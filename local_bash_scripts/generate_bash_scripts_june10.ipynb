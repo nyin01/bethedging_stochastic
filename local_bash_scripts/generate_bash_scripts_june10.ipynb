{
 "cells": [
  {
   "cell_type": "code",
   "execution_count": 1,
   "metadata": {},
   "outputs": [],
   "source": [
    "import itertools\n",
    "import os"
   ]
  },
  {
   "cell_type": "code",
   "execution_count": 2,
   "metadata": {},
   "outputs": [],
   "source": [
    "bash_scripts_dir = '../local_bash_scripts/June10_3sites/'"
   ]
  },
  {
   "cell_type": "code",
   "execution_count": 15,
   "metadata": {},
   "outputs": [],
   "source": [
    "site_labels = ['GCN', 'FR', 'EC']"
   ]
  },
  {
   "cell_type": "code",
   "execution_count": 16,
   "metadata": {},
   "outputs": [],
   "source": [
    "param_dicts = {}"
   ]
  },
  {
   "cell_type": "code",
   "execution_count": 17,
   "metadata": {},
   "outputs": [],
   "source": [
    "# June 10\n",
    "# site\tpgerm\tfmean\tfvar\twA\t    wB\n",
    "# FR\t0.165\t1.306\t1.403\t1.453\t0.547\n",
    "# EC\t0.224\t2.858\t23.513\t1.848\t0.152\n",
    "# GCN\t0.227\t2.097\t13.746\t1.884\t0.116"
   ]
  },
  {
   "cell_type": "code",
   "execution_count": 6,
   "metadata": {},
   "outputs": [],
   "source": [
    "param_dicts['FR'] = {\n",
    "    'all_fits': [1],\n",
    "    'all_envs': [1],\n",
    "    'all_germs': [1],\n",
    "    'all_hards': [1, 0],\n",
    "    'all_pA': [0, 0.25, 0.5, 0.75, 1],\n",
    "    'all_pGermBH': [0.165],\n",
    "    'all_pGermWT': [0.165, 0.5, 0.75, 1],\n",
    "    'all_bankLength': [3, 5, 7],\n",
    "    'all_fMean': [1.306],\n",
    "    'all_fVar': [1.403],\n",
    "    'all_wA': [1.453],\n",
    "    'all_wB': [0.547],\n",
    "    'site': ['FR']\n",
    "}"
   ]
  },
  {
   "cell_type": "code",
   "execution_count": 7,
   "metadata": {},
   "outputs": [],
   "source": [
    "param_dicts['EC'] = {\n",
    "    'all_fits': [1],\n",
    "    'all_envs': [1],\n",
    "    'all_germs': [1],\n",
    "    'all_hards': [1, 0],\n",
    "    'all_pA': [0, 0.25, 0.5, 0.75, 1],\n",
    "    'all_pGermBH': [0.224],\n",
    "    'all_pGermWT': [0.224, 0.5, 0.75, 1],\n",
    "    'all_bankLength': [3, 5, 7],\n",
    "    'all_fMean': [2.858],\n",
    "    'all_fVar': [23.513],\n",
    "    'all_wA': [1.848],\n",
    "    'all_wB': [0.152],\n",
    "    'site': ['EC']\n",
    "}"
   ]
  },
  {
   "cell_type": "code",
   "execution_count": 8,
   "metadata": {},
   "outputs": [],
   "source": [
    "param_dicts['GCN'] = {\n",
    "    'all_fits': [1],\n",
    "    'all_envs': [1],\n",
    "    'all_germs': [1],\n",
    "    'all_hards': [1, 0],\n",
    "    'all_pA': [0, 0.25, 0.5, 0.75, 1],\n",
    "    'all_pGermBH': [0.227],\n",
    "    'all_pGermWT': [0.227, 0.5, 0.75, 1],\n",
    "    'all_bankLength': [3, 5, 7],\n",
    "    'all_fMean': [2.097],\n",
    "    'all_fVar': [13.746],\n",
    "    'all_wA': [1.884],\n",
    "    'all_wB': [0.116],\n",
    "    'site': ['GCN']\n",
    "}"
   ]
  },
  {
   "cell_type": "code",
   "execution_count": 9,
   "metadata": {},
   "outputs": [],
   "source": [
    "'''\n",
    "returns a list of dicts where each dict is a combination of parameters\n",
    "'''\n",
    "def generate_param_combinations(param_dict):\n",
    "    keys = param_dict.keys()\n",
    "    values = (param_dict[key] for key in keys)\n",
    "    return [dict(zip(keys, combination)) for combination in itertools.product(*values)]"
   ]
  },
  {
   "cell_type": "code",
   "execution_count": 10,
   "metadata": {},
   "outputs": [],
   "source": [
    "index = 0\n",
    "for site in site_labels:\n",
    "    site_dict = param_dicts[site]\n",
    "\n",
    "    # ab sim\n",
    "    ab_dicts = {k: v for k, v in site_dict.items() if k not in ['all_fMean', 'all_fVar']}\n",
    "    ab_combination_dicts = generate_param_combinations(ab_dicts)\n",
    "\n",
    "    for c in ab_combination_dicts:\n",
    "        etype = c['all_envs']\n",
    "        gtype = c['all_germs']\n",
    "        stype = c['all_hards']\n",
    "        pA = c['all_pA']\n",
    "        pGermBH = c['all_pGermBH']\n",
    "        pGermWT = c['all_pGermWT']\n",
    "        bankLength = c['all_bankLength']\n",
    "        wA = c['all_wA']\n",
    "        wB = c['all_wB']\n",
    "        site = c['site']\n",
    "\n",
    "        ab_command = 'julia julia_scripts/delayedgerm_sim.jl {etype} {gtype} {stype} {pA} {pGermBH} {pGermWT} {bankLength} {wA} {wB} {site}'.format(\n",
    "            etype=etype,\n",
    "            gtype=gtype,\n",
    "            stype=stype,\n",
    "            pA=pA,\n",
    "            pGermBH=pGermBH,\n",
    "            pGermWT=pGermWT,\n",
    "            bankLength=bankLength,\n",
    "            wA=wA,\n",
    "            wB=wB,\n",
    "            site=site\n",
    "        )\n",
    "\n",
    "        index += 1\n",
    "\n",
    "        # create a bash script for each command\n",
    "        with open(bash_scripts_dir + str(index) + '.sh', 'w') as f:\n",
    "            f.write(ab_command)\n",
    "\n",
    "    # dist sim\n",
    "    dist_dicts = {k: v for k, v in site_dict.items() if k not in ['all_pA', 'all_wA', 'all_wB']}\n",
    "    dist_combination_dicts = generate_param_combinations(dist_dicts)\n",
    "\n",
    "    for c in dist_combination_dicts:\n",
    "        ftype = c['all_fits']\n",
    "        gtype = c['all_germs']\n",
    "        stype = c['all_hards']\n",
    "        pGermBH = c['all_pGermBH']\n",
    "        pGermWT = c['all_pGermWT']\n",
    "        bankLength = c['all_bankLength']\n",
    "        fMean = c['all_fMean']\n",
    "        fVar = c['all_fVar']\n",
    "        site = c['site']\n",
    "\n",
    "        dist_command = 'julia julia_scripts/delayedgerm_sim_dist.jl {ftype} {gtype} {stype} {pGermBH} {pGermWT} {bankLength} {fMean} {fVar} {site}'.format(\n",
    "            ftype=ftype,\n",
    "            gtype=gtype,\n",
    "            stype=stype,\n",
    "            pGermBH=pGermBH,\n",
    "            pGermWT=pGermWT,\n",
    "            bankLength=bankLength,\n",
    "            fMean=fMean,\n",
    "            fVar=fVar,\n",
    "            site=site\n",
    "        )\n",
    "\n",
    "        index += 1\n",
    "\n",
    "        # create a bash script for each command\n",
    "        with open(bash_scripts_dir + str(index) + '.sh', 'w') as f:\n",
    "            f.write(dist_command)"
   ]
  },
  {
   "cell_type": "code",
   "execution_count": 11,
   "metadata": {},
   "outputs": [],
   "source": [
    "# create a slurm script to run all the bash scripts\n",
    "slurm_job_name = 'june10_3sites'\n",
    "slurm_script_path = f'../slurm_scripts/{slurm_job_name}.sh'\n",
    "slurm_job_size = index"
   ]
  },
  {
   "cell_type": "code",
   "execution_count": 12,
   "metadata": {},
   "outputs": [],
   "source": [
    "\n",
    "slurm_script = \"\"\"#!/bin/bash\n",
    "\n",
    "#SBATCH -J {slurm_job_name}           # Job name.\n",
    "\n",
    "#SBATCH -N 1                               # Number of cores.\n",
    "#SBATCH -t 48:00:00                         # Runtime in D-HH:MM (or use minutes).\n",
    "#SBATCH --mem 4g                           # Memory in GB.\n",
    "#SBATCH --array=1-{slurm_job_size}                    # Array range.\n",
    "#SBATCH --mail-type=ALL                    # Type of email notification: BEGIN,END,FAIL,ALL.\n",
    "#SBATCH --mail-user=zheng_yin@alumni.brown.edu   # Email where notifications will be sent.\n",
    "#SBATCH -o {slurm_job_name}-%A.out\n",
    "#SBATCH -e {slurm_job_name}-%A.err\n",
    "\n",
    "\n",
    "# set script dir\n",
    "bash_scripts_dir=\"local_bash_scripts/June10_3sites\"\n",
    "\n",
    "# Get all the bash scripts in the dir\n",
    "bash_scripts=($(ls $bash_scripts_dir))\n",
    "\n",
    "# Get job index\n",
    "job_index=$((SLURM_ARRAY_TASK_ID))\n",
    "\n",
    "# Run each bash script\n",
    "script=${{bash_scripts_dir/$bash_scripts[$job_index]}}\n",
    "# ./$script\n",
    "echo \"Running $script\"\n",
    "\n",
    "\"\"\""
   ]
  },
  {
   "cell_type": "code",
   "execution_count": 13,
   "metadata": {},
   "outputs": [],
   "source": [
    "slurm_script = slurm_script.format(\n",
    "    slurm_job_name=slurm_job_name,\n",
    "    slurm_job_size=slurm_job_size,\n",
    "    bash_scripts_dir=bash_scripts_dir\n",
    ")"
   ]
  },
  {
   "cell_type": "code",
   "execution_count": 14,
   "metadata": {},
   "outputs": [],
   "source": [
    "# Write the job script to a file\n",
    "with open(slurm_script_path, 'w') as f:\n",
    "    f.write(slurm_script)"
   ]
  },
  {
   "cell_type": "code",
   "execution_count": null,
   "metadata": {},
   "outputs": [],
   "source": []
  },
  {
   "cell_type": "code",
   "execution_count": null,
   "metadata": {},
   "outputs": [],
   "source": []
  }
 ],
 "metadata": {
  "kernelspec": {
   "display_name": "base",
   "language": "python",
   "name": "python3"
  },
  "language_info": {
   "codemirror_mode": {
    "name": "ipython",
    "version": 3
   },
   "file_extension": ".py",
   "mimetype": "text/x-python",
   "name": "python",
   "nbconvert_exporter": "python",
   "pygments_lexer": "ipython3",
   "version": "3.10.11"
  }
 },
 "nbformat": 4,
 "nbformat_minor": 2
}
